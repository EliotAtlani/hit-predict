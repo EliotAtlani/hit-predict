{
 "cells": [
  {
   "cell_type": "markdown",
   "id": "4dc0758e",
   "metadata": {},
   "source": [
    "# Baseline Model and Pipeline for Hit-Predict Project"
   ]
  },
  {
   "cell_type": "markdown",
   "id": "631fac04",
   "metadata": {},
   "source": [
    "## Problem Statement\n",
    "\n",
    "Predicting a song's popularity is mutually beneficial for both the industry and its consumers. Record labels and streaming platforms are interested in which songs to promote and prioritize, and consumers want to discover songs they connect with and enjoy. This project therefore seeks to answer the question: **What factors most strongly influence a song's popularity, and how can they be leveraged to accurately predict it?**\n",
    "\n",
    "This project focuses on predicting the popularity of songs from the streaming service Spotify based on audio features, artist information, and other relevant metadata. The goal is to build a model and that provides robust predictions on the popularity of songs.\n",
    "\n",
    "Predicting track popularity requires analyzing patterns in song attributes to understand its influences. Key features to consider include song characteristics like danceability, energy, loudness, and genre. \n",
    "\n",
    "The challenge with predicting popularity is that popularity distribution is heavily skewed; in other words, not many songs become hits. Particularly with streaming services, it is easy to upload your own songs which results in many tracks having zero popularity. This imbalanced distribution may introduce bias in training models if not handled appropriately."
   ]
  },
  {
   "cell_type": "markdown",
   "id": "d7983429",
   "metadata": {},
   "source": [
    "## Table of Contents\n",
    "1. [Setup](#setup)\n",
    "    - [Importing Libraries](#lib)\n",
    "    - [Loading Data](#data)\n",
    "2. [EDA](#eda)\n",
    "3. [Baseline Models](#baseline)\n",
    "    - [Regression Problem](#sub1)\n",
    "    - [Classification Problem with Classes by 20](#sub2)\n",
    "    - [Classification Problem with Classes by 5](#sub3)\n",
    "4. [Final Model Pipeline](#pipeline)"
   ]
  },
  {
   "cell_type": "markdown",
   "id": "66e156b2",
   "metadata": {},
   "source": [
    "## 1. Setup\n",
    "<a id=\"setup\"></a>"
   ]
  },
  {
   "cell_type": "markdown",
   "id": "415c664f",
   "metadata": {},
   "source": [
    "### Importing Libraries\n",
    "<a id=\"lib\"></a>"
   ]
  },
  {
   "cell_type": "code",
   "execution_count": 2,
   "id": "670db3c3",
   "metadata": {},
   "outputs": [],
   "source": [
    "import pandas as pd\n",
    "import matplotlib.pyplot as plt\n",
    "import seaborn as sns\n",
    "import numpy as np\n",
    "from sklearn.linear_model import LinearRegression\n",
    "from sklearn.metrics import mean_squared_error\n",
    "from sklearn.metrics import silhouette_score\n",
    "\n",
    "from sklearn.model_selection import train_test_split\n",
    "from sklearn.metrics import r2_score\n",
    "from sklearn.cluster import KMeans\n",
    "from sklearn.decomposition import PCA\n",
    "from sklearn.neighbors import KNeighborsRegressor\n",
    "\n",
    "from scipy.stats import zscore"
   ]
  },
  {
   "cell_type": "markdown",
   "id": "e7fb5fac",
   "metadata": {},
   "source": [
    "### Loading Data\n",
    "<a id=\"data\"></a>"
   ]
  },
  {
   "cell_type": "code",
   "execution_count": 4,
   "id": "204cb527",
   "metadata": {},
   "outputs": [],
   "source": [
    "DATA_PATH_nothing = \"../data/processed_spotify_songs.csv\"\n",
    "df_nothing = pd.read_csv(DATA_PATH_nothing)\n",
    "\n",
    "DATA_PATH_0mean = \"../data/0mean_data.csv\"\n",
    "df_0mean = pd.read_csv(DATA_PATH_0mean)\n",
    "\n",
    "DATA_PATH_no0 = \"../data/no0_data.csv\"\n",
    "df_no0 = pd.read_csv(DATA_PATH_no0)"
   ]
  },
  {
   "cell_type": "markdown",
   "id": "c333fd57",
   "metadata": {},
   "source": [
    "## 2. Explore and visualize data\n",
    "<a id=\"eda\"></a>"
   ]
  },
  {
   "cell_type": "markdown",
   "id": "a4ca84e0",
   "metadata": {},
   "source": [
    "## 3. Baseline Models\n",
    "<a id=\"baseline\"></a>\n",
    "\n",
    "Recall that in the EDA notebook, we noticed that there was a high class imbalance in the target variable, especially with regards to a very high number of tracks that had a popularity score of 0. We discussed different ways to address this imbalance in the preprocessing steps of our data in previous notebooks and saved the different final preprocessed data in 3 different csv files. We will thus test all of our methods against these 3 preprocessing methods to evaluate potential improvements or not of the performances of our different models."
   ]
  },
  {
   "cell_type": "markdown",
   "id": "21fa6431",
   "metadata": {},
   "source": [
    "## Regression Problem"
   ]
  },
  {
   "cell_type": "markdown",
   "id": "7e654a35",
   "metadata": {},
   "source": [
    "## Classification Problem with Classes by 20"
   ]
  },
  {
   "cell_type": "markdown",
   "id": "47b655cf",
   "metadata": {},
   "source": [
    "## Classification Problem with Classes by 5"
   ]
  },
  {
   "cell_type": "code",
   "execution_count": null,
   "id": "60264216",
   "metadata": {},
   "outputs": [],
   "source": []
  }
 ],
 "metadata": {
  "kernelspec": {
   "display_name": "Python 3",
   "language": "python",
   "name": "python3"
  },
  "language_info": {
   "codemirror_mode": {
    "name": "ipython",
    "version": 3
   },
   "file_extension": ".py",
   "mimetype": "text/x-python",
   "name": "python",
   "nbconvert_exporter": "python",
   "pygments_lexer": "ipython3",
   "version": "3.12.5"
  }
 },
 "nbformat": 4,
 "nbformat_minor": 5
}
