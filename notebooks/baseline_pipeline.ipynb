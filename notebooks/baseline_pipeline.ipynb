{
 "cells": [
  {
   "cell_type": "markdown",
   "id": "4dc0758e",
   "metadata": {},
   "source": [
    "# Baseline Model and Pipeline for Hit-Predict Project"
   ]
  },
  {
   "cell_type": "markdown",
   "id": "d7983429",
   "metadata": {},
   "source": [
    "## Table of Contents\n",
    "1. [Setup](#setup)\n",
    "    - [Importing Libraries](#lib)\n",
    "    - [Loading Data](#data)\n",
    "2. [Baseline Models](#baseline)\n",
    "    - [Regression Problem](#sub1)\n",
    "    - [Classification Problem with Classes by 20](#sub2)\n",
    "    - [Classification Problem with Classes by 5](#sub3)\n",
    "3. [Final Model Pipeline](#pipeline)"
   ]
  },
  {
   "cell_type": "markdown",
   "id": "66e156b2",
   "metadata": {},
   "source": [
    "## 1. Setup\n",
    "<a id=\"setup\"></a>"
   ]
  },
  {
   "cell_type": "markdown",
   "id": "415c664f",
   "metadata": {},
   "source": [
    "### Importing Libraries\n",
    "<a id=\"lib\"></a>"
   ]
  },
  {
   "cell_type": "code",
   "execution_count": 2,
   "id": "670db3c3",
   "metadata": {},
   "outputs": [],
   "source": [
    "import pandas as pd\n",
    "import matplotlib.pyplot as plt\n",
    "import seaborn as sns\n",
    "import numpy as np\n",
    "from sklearn.linear_model import LinearRegression\n",
    "from sklearn.metrics import mean_squared_error\n",
    "from sklearn.metrics import silhouette_score\n",
    "\n",
    "from sklearn.model_selection import train_test_split\n",
    "from sklearn.metrics import r2_score\n",
    "from sklearn.cluster import KMeans\n",
    "from sklearn.decomposition import PCA\n",
    "from sklearn.neighbors import KNeighborsRegressor\n",
    "\n",
    "from scipy.stats import zscore"
   ]
  },
  {
   "cell_type": "markdown",
   "id": "e7fb5fac",
   "metadata": {},
   "source": [
    "### Loading Data\n",
    "<a id=\"data\"></a>"
   ]
  },
  {
   "cell_type": "code",
   "execution_count": 3,
   "id": "204cb527",
   "metadata": {},
   "outputs": [],
   "source": [
    "DATA_PATH = \"../data/processed_spotify_songs.csv\"\n",
    "df = pd.read_csv(DATA_PATH)"
   ]
  },
  {
   "cell_type": "markdown",
   "id": "a4ca84e0",
   "metadata": {},
   "source": [
    "## 2. Baseline Models\n",
    "<a id=\"baseline\"></a>"
   ]
  },
  {
   "cell_type": "markdown",
   "id": "ef936d05",
   "metadata": {},
   "source": [
    "Recall that in the EDA notebook, we noticed that there was a high class imbalance in the target variable, especially with regards to a very high number of tracks that had a popularity score of 0. We discussed different ways to address this imbalance in the preprocessing steps of our data in previous notebooks and saved the different final preprocessed data in 3 different csv files. We will thus test all of our methods against these 3 preprocessing methods to evaluate potential improvements or not of the performances of our different models."
   ]
  },
  {
   "cell_type": "markdown",
   "id": "21fa6431",
   "metadata": {},
   "source": [
    "## Regression Problem"
   ]
  },
  {
   "cell_type": "markdown",
   "id": "7e654a35",
   "metadata": {},
   "source": [
    "## Classification Problem with Classes by 20"
   ]
  },
  {
   "cell_type": "markdown",
   "id": "47b655cf",
   "metadata": {},
   "source": [
    "## Classification Problem with Classes by 5"
   ]
  }
 ],
 "metadata": {
  "kernelspec": {
   "display_name": "Python 3",
   "language": "python",
   "name": "python3"
  },
  "language_info": {
   "codemirror_mode": {
    "name": "ipython",
    "version": 3
   },
   "file_extension": ".py",
   "mimetype": "text/x-python",
   "name": "python",
   "nbconvert_exporter": "python",
   "pygments_lexer": "ipython3",
   "version": "3.12.5"
  }
 },
 "nbformat": 4,
 "nbformat_minor": 5
}
