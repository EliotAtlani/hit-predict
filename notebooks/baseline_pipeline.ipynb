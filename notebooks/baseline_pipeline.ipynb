{
 "cells": [
  {
   "cell_type": "markdown",
   "id": "4dc0758e",
   "metadata": {},
   "source": [
    "# Baseline Model and Pipeline for Hit-Predict Project"
   ]
  },
  {
   "cell_type": "markdown",
   "id": "d7983429",
   "metadata": {},
   "source": [
    "## Table of Contents\n",
    "1. [Setup](#setup)\n",
    "    - [Importing Libraries](#lib)\n",
    "    - [Loading Data](#data)\n",
    "2. [Baseline Models](#baseline)\n",
    "    - [Regression Problem](#sub1)\n",
    "    - [Classification Problem with Classes by 20](#sub2)\n",
    "    - [Classification Problem with Classes by 5](#sub3)\n",
    "3. [Final Model Pipeline](#pipeline)"
   ]
  },
  {
   "cell_type": "markdown",
   "id": "66e156b2",
   "metadata": {},
   "source": [
    "## 1. Setup\n",
    "<a id=\"setup\"></a>"
   ]
  },
  {
   "cell_type": "markdown",
   "id": "415c664f",
   "metadata": {},
   "source": [
    "### Importing Libraries\n",
    "<a id=\"lib\"></a>"
   ]
  },
  {
   "cell_type": "code",
   "execution_count": 74,
   "id": "670db3c3",
   "metadata": {},
   "outputs": [],
   "source": [
    "import pandas as pd\n",
    "import matplotlib.pyplot as plt\n",
    "import seaborn as sns\n",
    "import numpy as np\n",
    "from sklearn.linear_model import LinearRegression\n",
    "from sklearn.metrics import mean_squared_error, accuracy_score\n",
    "from sklearn.tree import DecisionTreeClassifier\n",
    "\n",
    "\n",
    "from sklearn.model_selection import train_test_split\n",
    "from sklearn.metrics import r2_score"
   ]
  },
  {
   "cell_type": "markdown",
   "id": "e7fb5fac",
   "metadata": {},
   "source": [
    "### Loading Data\n",
    "<a id=\"data\"></a>"
   ]
  },
  {
   "cell_type": "code",
   "execution_count": 75,
   "id": "204cb527",
   "metadata": {},
   "outputs": [],
   "source": [
    "DATA_PATH_nothing = \"../data/processed_spotify_songs.csv\"\n",
    "df_nothing = pd.read_csv(DATA_PATH_nothing)\n",
    "\n",
    "DATA_PATH_0mean = \"../data/0mean_data.csv\"\n",
    "df_0mean = pd.read_csv(DATA_PATH_0mean)\n",
    "\n",
    "DATA_PATH_no0 = \"../data/no0_data.csv\"\n",
    "df_no0 = pd.read_csv(DATA_PATH_no0)"
   ]
  },
  {
   "cell_type": "markdown",
   "id": "39042e2c",
   "metadata": {},
   "source": [
    "#### Drop non-numerical data"
   ]
  },
  {
   "cell_type": "code",
   "execution_count": 76,
   "id": "ab3c69a3",
   "metadata": {},
   "outputs": [],
   "source": [
    "df_nothing = df_nothing.drop(columns=[\"track_artist\", \"track_album_id\",\"track_album_release_date\",\"playlist_id\",\"playlist_subgenre\"])\n",
    "df_0mean = df_0mean.drop(columns=[\"track_artist\", \"track_album_id\",\"track_album_release_date\",\"playlist_id\",\"playlist_subgenre\"])\n",
    "df_no0 = df_no0.drop(columns=[\"track_artist\", \"track_album_id\",\"track_album_release_date\",\"playlist_id\",\"playlist_subgenre\"])"
   ]
  },
  {
   "cell_type": "markdown",
   "id": "a4ca84e0",
   "metadata": {},
   "source": [
    "## 2. Baseline Models\n",
    "<a id=\"baseline\"></a>"
   ]
  },
  {
   "cell_type": "markdown",
   "id": "ef936d05",
   "metadata": {},
   "source": [
    "Recall that in the EDA notebook, we noticed that there was a high class imbalance in the target variable, especially with regards to a very high number of tracks that had a popularity score of 0. We discussed different ways to address this imbalance in the preprocessing steps of our data in previous notebooks and saved the different final preprocessed data in 3 different csv files. We will thus test all of our methods against these 3 preprocessing methods to evaluate potential improvements or not of the performances of our different models."
   ]
  },
  {
   "cell_type": "markdown",
   "id": "40f3a72b",
   "metadata": {},
   "source": [
    "### Split the data"
   ]
  },
  {
   "cell_type": "code",
   "execution_count": 77,
   "id": "e0a5f577",
   "metadata": {},
   "outputs": [],
   "source": [
    "# Split the dataset before resampling\n",
    "X_nothing = df_nothing.drop(columns=[\"track_popularity\"])\n",
    "y_nothing = df_nothing[\"track_popularity\"]\n",
    "\n",
    "X_train_nothing, X_test_nothing, y_train_nothing, y_test_nothing = train_test_split(X_nothing, y_nothing, test_size=0.2, random_state=42)\n",
    "\n",
    "X_0mean = df_0mean.drop(columns=[\"track_popularity\"])\n",
    "y_0mean = df_0mean[\"track_popularity\"]\n",
    "\n",
    "X_train_0mean, X_test_0mean, y_train_0mean, y_test_0mean = train_test_split(X_0mean, y_0mean, test_size=0.2, random_state=42)\n",
    "\n",
    "X_no0 = df_no0.drop(columns=[\"track_popularity\"])\n",
    "y_no0 = df_no0[\"track_popularity\"]\n",
    "\n",
    "X_train_no0, X_test_no0, y_train_no0, y_test_no0 = train_test_split(X_no0, y_no0, test_size=0.2, random_state=42)\n"
   ]
  },
  {
   "cell_type": "code",
   "execution_count": 78,
   "id": "dd41fac2",
   "metadata": {},
   "outputs": [],
   "source": [
    "# helper functions\n",
    "\n",
    "def get_metrics(model, name: str, data: tuple) -> dict:\n",
    "    x_train, x_test, y_train, y_test = data\n",
    "    d = {}\n",
    "    y_hat_train = model.predict(x_train)\n",
    "    y_hat_test = model.predict(x_test)\n",
    "    d['name'] = name\n",
    "    d['train_mse'] = mean_squared_error(y_train, y_hat_train)\n",
    "    d['test_mse'] = mean_squared_error(y_test, y_hat_test)\n",
    "    d['r2_train'] = r2_score(y_train, y_hat_train)\n",
    "    d['r2_test'] = r2_score(y_test, y_hat_test)\n",
    "    return d"
   ]
  },
  {
   "cell_type": "markdown",
   "id": "21fa6431",
   "metadata": {},
   "source": [
    "## Regression Problem"
   ]
  },
  {
   "cell_type": "markdown",
   "id": "9cc2ad3f",
   "metadata": {},
   "source": [
    "**Do nothing dataset**"
   ]
  },
  {
   "cell_type": "code",
   "execution_count": 79,
   "id": "b532b657",
   "metadata": {},
   "outputs": [],
   "source": [
    "lin_reg_nothing = LinearRegression().fit(X_train_nothing, y_train_nothing)\n",
    "data = (X_train_nothing, X_test_nothing, y_train_nothing, y_test_nothing)\n",
    "results = [get_metrics(lin_reg_nothing, 'Linear Regression', data)]"
   ]
  },
  {
   "cell_type": "markdown",
   "id": "d17408ff",
   "metadata": {},
   "source": [
    "**0 mean dataset**"
   ]
  },
  {
   "cell_type": "code",
   "execution_count": 80,
   "id": "b565cc3d",
   "metadata": {},
   "outputs": [],
   "source": [
    "lin_reg_0mean = LinearRegression().fit(X_train_0mean, y_train_0mean)\n",
    "data = (X_train_0mean, X_test_0mean, y_train_0mean, y_test_0mean)\n",
    "results.append(get_metrics(lin_reg_0mean, 'Linear Regression 0mean', data))"
   ]
  },
  {
   "cell_type": "markdown",
   "id": "bc905de5",
   "metadata": {},
   "source": [
    "**No zero dataset**"
   ]
  },
  {
   "cell_type": "code",
   "execution_count": 81,
   "id": "0dfa30f8",
   "metadata": {},
   "outputs": [],
   "source": [
    "lin_reg_no0 = LinearRegression().fit(X_train_no0, y_train_no0)\n",
    "data = (X_train_no0, X_test_no0, y_train_no0, y_test_no0)\n",
    "results.append(get_metrics(lin_reg_no0, 'Linear Regression no0', data))"
   ]
  },
  {
   "cell_type": "markdown",
   "id": "43c7a213",
   "metadata": {},
   "source": [
    "**Results**"
   ]
  },
  {
   "cell_type": "code",
   "execution_count": 82,
   "id": "a62b8c9d",
   "metadata": {},
   "outputs": [
    {
     "data": {
      "text/html": [
       "<div>\n",
       "<style scoped>\n",
       "    .dataframe tbody tr th:only-of-type {\n",
       "        vertical-align: middle;\n",
       "    }\n",
       "\n",
       "    .dataframe tbody tr th {\n",
       "        vertical-align: top;\n",
       "    }\n",
       "\n",
       "    .dataframe thead th {\n",
       "        text-align: right;\n",
       "    }\n",
       "</style>\n",
       "<table border=\"1\" class=\"dataframe\">\n",
       "  <thead>\n",
       "    <tr style=\"text-align: right;\">\n",
       "      <th></th>\n",
       "      <th>name</th>\n",
       "      <th>train_mse</th>\n",
       "      <th>test_mse</th>\n",
       "      <th>r2_train</th>\n",
       "      <th>r2_test</th>\n",
       "    </tr>\n",
       "  </thead>\n",
       "  <tbody>\n",
       "    <tr>\n",
       "      <th>0</th>\n",
       "      <td>Linear Regression</td>\n",
       "      <td>13.422934</td>\n",
       "      <td>12.007848</td>\n",
       "      <td>0.976120</td>\n",
       "      <td>0.978549</td>\n",
       "    </tr>\n",
       "    <tr>\n",
       "      <th>1</th>\n",
       "      <td>Linear Regression 0mean</td>\n",
       "      <td>47.210756</td>\n",
       "      <td>45.731283</td>\n",
       "      <td>0.903580</td>\n",
       "      <td>0.906142</td>\n",
       "    </tr>\n",
       "    <tr>\n",
       "      <th>2</th>\n",
       "      <td>Linear Regression no0</td>\n",
       "      <td>14.148650</td>\n",
       "      <td>14.649906</td>\n",
       "      <td>0.968198</td>\n",
       "      <td>0.967277</td>\n",
       "    </tr>\n",
       "  </tbody>\n",
       "</table>\n",
       "</div>"
      ],
      "text/plain": [
       "                      name  train_mse   test_mse  r2_train   r2_test\n",
       "0        Linear Regression  13.422934  12.007848  0.976120  0.978549\n",
       "1  Linear Regression 0mean  47.210756  45.731283  0.903580  0.906142\n",
       "2    Linear Regression no0  14.148650  14.649906  0.968198  0.967277"
      ]
     },
     "execution_count": 82,
     "metadata": {},
     "output_type": "execute_result"
    }
   ],
   "source": [
    "pd.DataFrame(results)"
   ]
  },
  {
   "cell_type": "markdown",
   "id": "47b655cf",
   "metadata": {},
   "source": [
    "## Classification Problem with Classes by 5"
   ]
  },
  {
   "cell_type": "markdown",
   "id": "233f42c5",
   "metadata": {},
   "source": [
    "#### Encode the track_popularity "
   ]
  },
  {
   "cell_type": "code",
   "execution_count": 83,
   "id": "2b108712",
   "metadata": {},
   "outputs": [],
   "source": [
    "# create a bins and labels for the popularity\n",
    "num_categories = 5\n",
    "\n",
    "bins = [i * (100 / num_categories) for i in range(num_categories + 1)]\n",
    "labels = list(range(0, num_categories))"
   ]
  },
  {
   "cell_type": "code",
   "execution_count": 84,
   "id": "661600ac",
   "metadata": {},
   "outputs": [],
   "source": [
    "# create a new column for the popularity category\n",
    "df_nothing['popularity_category'] = pd.cut(\n",
    "    df_nothing['track_popularity'], bins=bins, labels=labels, include_lowest=True)\n",
    "\n",
    "df_nothing = df_nothing.drop(columns=[\"track_popularity\"])\n",
    "\n",
    "df_0mean['popularity_category'] = pd.cut(\n",
    "    df_0mean['track_popularity'], bins=bins, labels=labels, include_lowest=True)\n",
    "\n",
    "df_0mean = df_0mean.drop(columns=[\"track_popularity\"])\n",
    "\n",
    "df_no0['popularity_category'] = pd.cut(\n",
    "    df_no0['track_popularity'], bins=bins, labels=labels, include_lowest=True)\n",
    "\n",
    "df_no0 = df_no0.drop(columns=[\"track_popularity\"])"
   ]
  },
  {
   "cell_type": "markdown",
   "id": "be1aa459",
   "metadata": {},
   "source": [
    "**Split the different dataset**"
   ]
  },
  {
   "cell_type": "code",
   "execution_count": 85,
   "id": "321ddfe9",
   "metadata": {},
   "outputs": [],
   "source": [
    "X_nothing = df_nothing.drop(columns=[\"popularity_category\"])\n",
    "y_nothing = df_nothing[\"popularity_category\"]\n",
    "\n",
    "X_train_nothing, X_test_nothing, y_train_nothing, y_test_nothing = train_test_split(X_nothing, y_nothing, test_size=0.2, random_state=42)\n",
    "\n",
    "X_0mean = df_0mean.drop(columns=[\"popularity_category\"])\n",
    "y_0mean = df_0mean[\"popularity_category\"]\n",
    "\n",
    "X_train_0mean, X_test_0mean, y_train_0mean, y_test_0mean = train_test_split(X_0mean, y_0mean, test_size=0.2, random_state=42)\n",
    "\n",
    "X_no0 = df_no0.drop(columns=[\"popularity_category\"])\n",
    "y_no0 = df_no0[\"popularity_category\"]\n",
    "\n",
    "X_train_no0, X_test_no0, y_train_no0, y_test_no0 = train_test_split(X_no0, y_no0, test_size=0.2, random_state=42)"
   ]
  },
  {
   "cell_type": "markdown",
   "id": "816b6adc",
   "metadata": {},
   "source": [
    "**Parameters**"
   ]
  },
  {
   "cell_type": "code",
   "execution_count": 86,
   "id": "747494ac",
   "metadata": {},
   "outputs": [],
   "source": [
    "depths = np.arange(1, 21)"
   ]
  },
  {
   "cell_type": "markdown",
   "id": "e7796ebc",
   "metadata": {},
   "source": [
    "#### Some EDAs"
   ]
  },
  {
   "cell_type": "code",
   "execution_count": 87,
   "id": "aee9ece4",
   "metadata": {},
   "outputs": [
    {
     "data": {
      "image/png": "[encoded data removed]",
      "text/plain": [
       "<Figure size 2000x500 with 3 Axes>"
      ]
     },
     "metadata": {},
     "output_type": "display_data"
    }
   ],
   "source": [
    "# plot distribution of popularity categories\n",
    "\n",
    "fig, ax = plt.subplots(1, 3, figsize=(20, 5))\n",
    "\n",
    "sns.countplot(x='popularity_category', data=df_nothing, ax=ax[0])\n",
    "ax[0].set_title('Popularity category distribution for the untouched dataset')\n",
    "\n",
    "sns.countplot(x='popularity_category', data=df_0mean, ax=ax[1])\n",
    "ax[1].set_title('Popularity category distribution for the 0mean dataset')\n",
    "\n",
    "sns.countplot(x='popularity_category', data=df_no0, ax=ax[2])\n",
    "ax[2].set_title('Popularity category distribution for the no0 dataset')\n",
    "\n",
    "plt.show()"
   ]
  },
  {
   "cell_type": "markdown",
   "id": "dda83f2c",
   "metadata": {},
   "source": [
    "### DecisionTree"
   ]
  },
  {
   "cell_type": "code",
   "execution_count": 88,
   "id": "fa6fe449",
   "metadata": {},
   "outputs": [],
   "source": [
    "results = []"
   ]
  },
  {
   "cell_type": "markdown",
   "id": "ca36e6cb",
   "metadata": {},
   "source": [
    "**Do nothing dataset**"
   ]
  },
  {
   "cell_type": "code",
   "execution_count": 89,
   "id": "60264216",
   "metadata": {},
   "outputs": [],
   "source": [
    "# train a decision tree classifier on the dataset\n",
    "train_accuracy_nothing = []\n",
    "test_accuracy_nothing = []\n",
    "for depth in depths:\n",
    "    clf_nothing = DecisionTreeClassifier(max_depth=depth)\n",
    "    clf_nothing.fit(X_train_nothing, y_train_nothing)\n",
    "    \n",
    "    train_accuracy_nothing.append(accuracy_score(y_train_nothing, clf_nothing.predict(X_train_nothing)))\n",
    "    test_accuracy_nothing.append(accuracy_score(y_test_nothing, clf_nothing.predict(X_test_nothing)))\n",
    "    "
   ]
  },
  {
   "cell_type": "markdown",
   "id": "caa3d097",
   "metadata": {},
   "source": [
    "**0mean dataset**"
   ]
  },
  {
   "cell_type": "code",
   "execution_count": 90,
   "id": "918aeec5",
   "metadata": {},
   "outputs": [],
   "source": [
    "train_accuracy_0mean = []\n",
    "test_accuracy_0mean = []\n",
    "for depth in depths:\n",
    "    clf_0mean = DecisionTreeClassifier(max_depth=depth)\n",
    "    clf_0mean.fit(X_train_0mean, y_train_0mean)\n",
    "    \n",
    "    train_accuracy_0mean.append(accuracy_score(y_train_0mean, clf_0mean.predict(X_train_0mean)))\n",
    "    test_accuracy_0mean.append(accuracy_score(y_test_0mean, clf_0mean.predict(X_test_0mean)))"
   ]
  },
  {
   "cell_type": "markdown",
   "id": "fcac7700",
   "metadata": {},
   "source": [
    "**No 0 dataset**"
   ]
  },
  {
   "cell_type": "code",
   "execution_count": 91,
   "id": "176a14c4",
   "metadata": {},
   "outputs": [],
   "source": [
    "train_accuracy_no0 = []\n",
    "test_accuracy_no0 = []\n",
    "for depth in depths:\n",
    "    clf_no0 = DecisionTreeClassifier(max_depth=depth)\n",
    "    clf_no0.fit(X_train_no0, y_train_no0)\n",
    "    \n",
    "    train_accuracy_no0.append(accuracy_score(y_train_no0, clf_no0.predict(X_train_no0)))\n",
    "    test_accuracy_no0.append(accuracy_score(y_test_no0, clf_no0.predict(X_test_no0)))"
   ]
  },
  {
   "cell_type": "markdown",
   "id": "fc353af2",
   "metadata": {},
   "source": [
    "**Plot the results**"
   ]
  },
  {
   "cell_type": "code",
   "execution_count": 92,
   "id": "957be8e9",
   "metadata": {},
   "outputs": [
    {
     "data": {
      "text/plain": [
       "Text(0.5, 0, 'Max depth')"
      ]
     },
     "execution_count": 92,
     "metadata": {},
     "output_type": "execute_result"
    },
    {
     "data": {
      "image/png": "[encoded data removed]",
      "text/plain": [
       "<Figure size 2000x500 with 3 Axes>"
      ]
     },
     "metadata": {},
     "output_type": "display_data"
    }
   ],
   "source": [
    "fig, ax = plt.subplots(1, 3, figsize=(20, 5))\n",
    "\n",
    "ax[0].plot(depths, train_accuracy_nothing, label='train')\n",
    "ax[0].plot(depths, test_accuracy_nothing, label='test')\n",
    "ax[0].set_title('Accuracy for the untouched dataset')\n",
    "ax[0].set_xlabel('Max depth')\n",
    "\n",
    "ax[1].plot(depths, train_accuracy_0mean, label='train')\n",
    "ax[1].plot(depths, test_accuracy_0mean, label='test')\n",
    "ax[1].set_title('Accuracy for the 0mean dataset')\n",
    "ax[1].set_xlabel('Max depth')\n",
    "\n",
    "ax[2].plot(depths, train_accuracy_no0, label='train')\n",
    "ax[2].plot(depths, test_accuracy_no0, label='test')\n",
    "ax[2].set_title('Accuracy for the no0 dataset')\n",
    "ax[2].set_xlabel('Max depth')   "
   ]
  },
  {
   "cell_type": "markdown",
   "id": "10087c9e",
   "metadata": {},
   "source": [
    "**Find the best result for each dataset**"
   ]
  },
  {
   "cell_type": "code",
   "execution_count": 93,
   "id": "5f170067",
   "metadata": {},
   "outputs": [],
   "source": [
    "best_result_nothing = max(test_accuracy_nothing)\n",
    "best_depth_nothing = depths[test_accuracy_nothing.index(best_result_nothing)]\n",
    "\n",
    "results.append([\"Decision Tree\", \"Untouched\", best_result_nothing, best_depth_nothing])\n",
    "\n",
    "best_result_0mean = max(test_accuracy_0mean)\n",
    "best_depth_0mean = depths[test_accuracy_0mean.index(best_result_0mean)]\n",
    "\n",
    "results.append([\"Decision Tree\", \"0mean\", best_result_0mean, best_depth_0mean])\n",
    "\n",
    "best_result_no0 = max(test_accuracy_no0)\n",
    "best_depth_no0 = depths[test_accuracy_no0.index(best_result_no0)]\n",
    "\n",
    "results.append([\"Decision Tree\", \"no0\", best_result_no0, best_depth_no0])"
   ]
  },
  {
   "cell_type": "markdown",
   "id": "c1014e52",
   "metadata": {},
   "source": [
    "**Results**"
   ]
  },
  {
   "cell_type": "code",
   "execution_count": 95,
   "id": "adac5d95",
   "metadata": {},
   "outputs": [
    {
     "data": {
      "text/html": [
       "<div>\n",
       "<style scoped>\n",
       "    .dataframe tbody tr th:only-of-type {\n",
       "        vertical-align: middle;\n",
       "    }\n",
       "\n",
       "    .dataframe tbody tr th {\n",
       "        vertical-align: top;\n",
       "    }\n",
       "\n",
       "    .dataframe thead th {\n",
       "        text-align: right;\n",
       "    }\n",
       "</style>\n",
       "<table border=\"1\" class=\"dataframe\">\n",
       "  <thead>\n",
       "    <tr style=\"text-align: right;\">\n",
       "      <th></th>\n",
       "      <th>Model</th>\n",
       "      <th>Dataset</th>\n",
       "      <th>Accuracy</th>\n",
       "      <th>Best Depth</th>\n",
       "    </tr>\n",
       "  </thead>\n",
       "  <tbody>\n",
       "    <tr>\n",
       "      <th>0</th>\n",
       "      <td>Decision Tree</td>\n",
       "      <td>Untouched</td>\n",
       "      <td>0.934050</td>\n",
       "      <td>4</td>\n",
       "    </tr>\n",
       "    <tr>\n",
       "      <th>1</th>\n",
       "      <td>Decision Tree</td>\n",
       "      <td>0mean</td>\n",
       "      <td>0.931053</td>\n",
       "      <td>5</td>\n",
       "    </tr>\n",
       "    <tr>\n",
       "      <th>2</th>\n",
       "      <td>Decision Tree</td>\n",
       "      <td>no0</td>\n",
       "      <td>0.930458</td>\n",
       "      <td>3</td>\n",
       "    </tr>\n",
       "  </tbody>\n",
       "</table>\n",
       "</div>"
      ],
      "text/plain": [
       "           Model    Dataset  Accuracy  Best Depth\n",
       "0  Decision Tree  Untouched  0.934050           4\n",
       "1  Decision Tree      0mean  0.931053           5\n",
       "2  Decision Tree        no0  0.930458           3"
      ]
     },
     "execution_count": 95,
     "metadata": {},
     "output_type": "execute_result"
    }
   ],
   "source": [
    "col = [\"Model\", \"Dataset\", \"Accuracy\", \"Best Depth\"]\n",
    "\n",
    "pd.DataFrame(results, columns=col)"
   ]
  }
 ],
 "metadata": {
  "kernelspec": {
   "display_name": "hit_predict",
   "language": "python",
   "name": "python3"
  },
  "language_info": {
   "codemirror_mode": {
    "name": "ipython",
    "version": 3
   },
   "file_extension": ".py",
   "mimetype": "text/x-python",
   "name": "python",
   "nbconvert_exporter": "python",
   "pygments_lexer": "ipython3",
   "version": "3.9.20"
  }
 },
 "nbformat": 4,
 "nbformat_minor": 5
}
