{
 "cells": [
  {
   "cell_type": "markdown",
   "id": "4dc0758e",
   "metadata": {},
   "source": [
    "# Baseline Model and Pipeline for Hit-Predict Project"
   ]
  },
  {
   "cell_type": "markdown",
   "id": "d7983429",
   "metadata": {},
   "source": [
    "## Table of Contents\n",
    "1. [Setup](#setup)\n",
    "    - [Importing Libraries](#lib)\n",
    "    - [Loading Data](#data)\n",
    "2. [Baseline Models](#baseline)\n",
    "    - [Regression Problem](#sub1)\n",
    "    - [Classification Problem with Classes by 20](#sub2)\n",
    "    - [Classification Problem with Classes by 5](#sub3)\n",
    "3. [Final Model Pipeline](#pipeline)"
   ]
  },
  {
   "cell_type": "markdown",
   "id": "66e156b2",
   "metadata": {},
   "source": [
    "## 1. Setup\n",
    "<a id=\"setup\"></a>"
   ]
  },
  {
   "cell_type": "markdown",
   "id": "415c664f",
   "metadata": {},
   "source": [
    "### Importing Libraries\n",
    "<a id=\"lib\"></a>"
   ]
  },
  {
   "cell_type": "code",
   "execution_count": 1,
   "id": "670db3c3",
   "metadata": {},
   "outputs": [],
   "source": [
    "import pandas as pd\n",
    "import matplotlib.pyplot as plt\n",
    "import numpy as np\n",
    "\n",
    "from sklearn.model_selection import train_test_split, cross_val_score, GridSearchCV\n",
    "from sklearn.metrics import accuracy_score\n",
    "from sklearn.ensemble import RandomForestClassifier, GradientBoostingClassifier\n",
    "from sklearn.linear_model import LogisticRegression, RidgeClassifier\n",
    "from sklearn.tree import DecisionTreeClassifier\n",
    "from sklearn.neighbors import KNeighborsClassifier"
   ]
  },
  {
   "cell_type": "markdown",
   "id": "e7fb5fac",
   "metadata": {},
   "source": [
    "### Loading Data\n",
    "<a id=\"data\"></a>"
   ]
  },
  {
   "cell_type": "code",
   "execution_count": 2,
   "id": "204cb527",
   "metadata": {},
   "outputs": [],
   "source": [
    "DATA_PATH_nothing = \"../data/processed_spotify_songs.csv\"\n",
    "df_nothing = pd.read_csv(DATA_PATH_nothing)\n",
    "\n",
    "DATA_PATH_0mean = \"../data/0mean_data.csv\"\n",
    "df_0mean = pd.read_csv(DATA_PATH_0mean)\n",
    "\n",
    "DATA_PATH_no0 = \"../data/no0_data.csv\"\n",
    "df_no0 = pd.read_csv(DATA_PATH_no0)"
   ]
  },
  {
   "cell_type": "code",
   "execution_count": 3,
   "id": "0a41b5b5",
   "metadata": {},
   "outputs": [
    {
     "data": {
      "text/html": [
       "<div>\n",
       "<style scoped>\n",
       "    .dataframe tbody tr th:only-of-type {\n",
       "        vertical-align: middle;\n",
       "    }\n",
       "\n",
       "    .dataframe tbody tr th {\n",
       "        vertical-align: top;\n",
       "    }\n",
       "\n",
       "    .dataframe thead th {\n",
       "        text-align: right;\n",
       "    }\n",
       "</style>\n",
       "<table border=\"1\" class=\"dataframe\">\n",
       "  <thead>\n",
       "    <tr style=\"text-align: right;\">\n",
       "      <th></th>\n",
       "      <th>track_artist</th>\n",
       "      <th>track_popularity</th>\n",
       "      <th>track_album_id</th>\n",
       "      <th>track_album_release_date</th>\n",
       "      <th>playlist_id</th>\n",
       "      <th>playlist_subgenre</th>\n",
       "      <th>danceability</th>\n",
       "      <th>energy</th>\n",
       "      <th>key</th>\n",
       "      <th>loudness</th>\n",
       "      <th>...</th>\n",
       "      <th>rap</th>\n",
       "      <th>latin</th>\n",
       "      <th>rock</th>\n",
       "      <th>pop</th>\n",
       "      <th>artist_track_encoded</th>\n",
       "      <th>playlist_id_encoded</th>\n",
       "      <th>track_album_id_encoded</th>\n",
       "      <th>release_year</th>\n",
       "      <th>release_month</th>\n",
       "      <th>release_day</th>\n",
       "    </tr>\n",
       "  </thead>\n",
       "  <tbody>\n",
       "    <tr>\n",
       "      <th>0</th>\n",
       "      <td>Barbie's Cradle</td>\n",
       "      <td>41.0</td>\n",
       "      <td>1srJQ0njEQgd8w4XSqI4JQ</td>\n",
       "      <td>2001-01-01</td>\n",
       "      <td>37i9dQZF1DWYDQ8wBxd7xt</td>\n",
       "      <td>classic rock</td>\n",
       "      <td>0.481351</td>\n",
       "      <td>0.160801</td>\n",
       "      <td>2.0</td>\n",
       "      <td>0.588413</td>\n",
       "      <td>...</td>\n",
       "      <td>0</td>\n",
       "      <td>0</td>\n",
       "      <td>1</td>\n",
       "      <td>0</td>\n",
       "      <td>43.5</td>\n",
       "      <td>43.100000</td>\n",
       "      <td>41.0</td>\n",
       "      <td>2001</td>\n",
       "      <td>1</td>\n",
       "      <td>1</td>\n",
       "    </tr>\n",
       "    <tr>\n",
       "      <th>1</th>\n",
       "      <td>RIKA</td>\n",
       "      <td>15.0</td>\n",
       "      <td>1ficfUnZMaY1QkNp15Slzm</td>\n",
       "      <td>2018-01-26</td>\n",
       "      <td>0JmBB9HfrzDiZoPVRdv8ns</td>\n",
       "      <td>neo soul</td>\n",
       "      <td>0.350541</td>\n",
       "      <td>0.495616</td>\n",
       "      <td>5.0</td>\n",
       "      <td>0.715122</td>\n",
       "      <td>...</td>\n",
       "      <td>0</td>\n",
       "      <td>0</td>\n",
       "      <td>0</td>\n",
       "      <td>0</td>\n",
       "      <td>15.0</td>\n",
       "      <td>26.206186</td>\n",
       "      <td>15.0</td>\n",
       "      <td>2018</td>\n",
       "      <td>1</td>\n",
       "      <td>26</td>\n",
       "    </tr>\n",
       "    <tr>\n",
       "      <th>2</th>\n",
       "      <td>Steady Rollin</td>\n",
       "      <td>28.0</td>\n",
       "      <td>3z04Lb9Dsilqw68SHt6jLB</td>\n",
       "      <td>2017-11-21</td>\n",
       "      <td>3YouF0u7waJnolytf9JCXf</td>\n",
       "      <td>hard rock</td>\n",
       "      <td>0.095012</td>\n",
       "      <td>0.774400</td>\n",
       "      <td>9.0</td>\n",
       "      <td>0.768273</td>\n",
       "      <td>...</td>\n",
       "      <td>0</td>\n",
       "      <td>0</td>\n",
       "      <td>1</td>\n",
       "      <td>0</td>\n",
       "      <td>29.5</td>\n",
       "      <td>31.697917</td>\n",
       "      <td>28.0</td>\n",
       "      <td>2017</td>\n",
       "      <td>11</td>\n",
       "      <td>21</td>\n",
       "    </tr>\n",
       "    <tr>\n",
       "      <th>3</th>\n",
       "      <td>The.madpix.project</td>\n",
       "      <td>24.0</td>\n",
       "      <td>1Z4ANBVuhTlS6DprlP0m1q</td>\n",
       "      <td>2015-08-07</td>\n",
       "      <td>5TiiHps0hNCyQ6ijVkNZQs</td>\n",
       "      <td>electropop</td>\n",
       "      <td>0.449432</td>\n",
       "      <td>0.630436</td>\n",
       "      <td>10.0</td>\n",
       "      <td>0.736041</td>\n",
       "      <td>...</td>\n",
       "      <td>0</td>\n",
       "      <td>0</td>\n",
       "      <td>0</td>\n",
       "      <td>1</td>\n",
       "      <td>12.2</td>\n",
       "      <td>39.436364</td>\n",
       "      <td>24.0</td>\n",
       "      <td>2015</td>\n",
       "      <td>8</td>\n",
       "      <td>7</td>\n",
       "    </tr>\n",
       "    <tr>\n",
       "      <th>4</th>\n",
       "      <td>YOSA &amp; TAAR</td>\n",
       "      <td>38.0</td>\n",
       "      <td>2BuYm9UcKvI0ydXs5JKwt0</td>\n",
       "      <td>2018-11-16</td>\n",
       "      <td>37i9dQZF1DXdOtZGKonFlM</td>\n",
       "      <td>dance pop</td>\n",
       "      <td>0.453533</td>\n",
       "      <td>0.702244</td>\n",
       "      <td>1.0</td>\n",
       "      <td>0.713109</td>\n",
       "      <td>...</td>\n",
       "      <td>0</td>\n",
       "      <td>0</td>\n",
       "      <td>0</td>\n",
       "      <td>1</td>\n",
       "      <td>38.0</td>\n",
       "      <td>35.673469</td>\n",
       "      <td>38.0</td>\n",
       "      <td>2018</td>\n",
       "      <td>11</td>\n",
       "      <td>16</td>\n",
       "    </tr>\n",
       "  </tbody>\n",
       "</table>\n",
       "<p>5 rows × 30 columns</p>\n",
       "</div>"
      ],
      "text/plain": [
       "         track_artist  track_popularity          track_album_id  \\\n",
       "0     Barbie's Cradle              41.0  1srJQ0njEQgd8w4XSqI4JQ   \n",
       "1                RIKA              15.0  1ficfUnZMaY1QkNp15Slzm   \n",
       "2       Steady Rollin              28.0  3z04Lb9Dsilqw68SHt6jLB   \n",
       "3  The.madpix.project              24.0  1Z4ANBVuhTlS6DprlP0m1q   \n",
       "4         YOSA & TAAR              38.0  2BuYm9UcKvI0ydXs5JKwt0   \n",
       "\n",
       "  track_album_release_date             playlist_id playlist_subgenre  \\\n",
       "0               2001-01-01  37i9dQZF1DWYDQ8wBxd7xt      classic rock   \n",
       "1               2018-01-26  0JmBB9HfrzDiZoPVRdv8ns          neo soul   \n",
       "2               2017-11-21  3YouF0u7waJnolytf9JCXf         hard rock   \n",
       "3               2015-08-07  5TiiHps0hNCyQ6ijVkNZQs        electropop   \n",
       "4               2018-11-16  37i9dQZF1DXdOtZGKonFlM         dance pop   \n",
       "\n",
       "   danceability    energy   key  loudness  ...  rap  latin  rock  pop  \\\n",
       "0      0.481351  0.160801   2.0  0.588413  ...    0      0     1    0   \n",
       "1      0.350541  0.495616   5.0  0.715122  ...    0      0     0    0   \n",
       "2      0.095012  0.774400   9.0  0.768273  ...    0      0     1    0   \n",
       "3      0.449432  0.630436  10.0  0.736041  ...    0      0     0    1   \n",
       "4      0.453533  0.702244   1.0  0.713109  ...    0      0     0    1   \n",
       "\n",
       "   artist_track_encoded  playlist_id_encoded  track_album_id_encoded  \\\n",
       "0                  43.5            43.100000                    41.0   \n",
       "1                  15.0            26.206186                    15.0   \n",
       "2                  29.5            31.697917                    28.0   \n",
       "3                  12.2            39.436364                    24.0   \n",
       "4                  38.0            35.673469                    38.0   \n",
       "\n",
       "   release_year  release_month  release_day  \n",
       "0          2001              1            1  \n",
       "1          2018              1           26  \n",
       "2          2017             11           21  \n",
       "3          2015              8            7  \n",
       "4          2018             11           16  \n",
       "\n",
       "[5 rows x 30 columns]"
      ]
     },
     "execution_count": 3,
     "metadata": {},
     "output_type": "execute_result"
    }
   ],
   "source": [
    "df_0mean.head()"
   ]
  },
  {
   "cell_type": "code",
   "execution_count": 4,
   "id": "bdb6cce1",
   "metadata": {},
   "outputs": [
    {
     "name": "stdout",
     "output_type": "stream",
     "text": [
      "Index(['track_artist', 'track_popularity', 'track_album_id',\n",
      "       'track_album_release_date', 'playlist_id', 'playlist_subgenre',\n",
      "       'danceability', 'energy', 'key', 'loudness', 'mode', 'speechiness',\n",
      "       'acousticness', 'instrumentalness', 'liveness', 'valence', 'tempo',\n",
      "       'duration_ms', 'edm', 'r&b', 'rap', 'latin', 'rock', 'pop',\n",
      "       'artist_track_encoded', 'playlist_id_encoded', 'track_album_id_encoded',\n",
      "       'release_year', 'release_month', 'release_day'],\n",
      "      dtype='object')\n"
     ]
    }
   ],
   "source": [
    "print(df_nothing.columns)"
   ]
  },
  {
   "cell_type": "code",
   "execution_count": 5,
   "id": "e0e538b4",
   "metadata": {},
   "outputs": [],
   "source": [
    "# We noticed that we forgot to drop the following columns \n",
    "# (that we had encoded and added in our dataset during preprocessing, so there is no risk in dropping them)\n",
    "col_id_drop = ['track_album_id', 'playlist_id', 'track_album_release_date']\n",
    "df_nothing = df_nothing.drop(col_id_drop, axis=1)\n",
    "df_0mean = df_0mean.drop(col_id_drop, axis=1)\n",
    "df_no0 = df_no0.drop(col_id_drop, axis=1)\n",
    "\n",
    "# Furthermore, there are remaining columns that we still need to one-hot encode\n",
    "non_num_col = ['track_artist', 'playlist_subgenre']\n",
    "df_nothing = pd.get_dummies(df_nothing, columns=non_num_col)\n",
    "df_0mean = pd.get_dummies(df_0mean, columns=non_num_col)\n",
    "df_no0 = pd.get_dummies(df_no0, columns=non_num_col)"
   ]
  },
  {
   "cell_type": "code",
   "execution_count": 6,
   "id": "413463ed",
   "metadata": {},
   "outputs": [],
   "source": [
    "X_nothing = df_nothing.drop(columns=['track_popularity'])\n",
    "Y_nothing = df_nothing['track_popularity']\n",
    "\n",
    "X_0mean = df_0mean.drop(columns=['track_popularity'])\n",
    "Y_0mean = df_0mean['track_popularity']\n",
    "\n",
    "X_no0 = df_no0.drop(columns=['track_popularity'])\n",
    "Y_no0 = df_no0['track_popularity']"
   ]
  },
  {
   "cell_type": "markdown",
   "id": "a4ca84e0",
   "metadata": {},
   "source": [
    "## 2. Baseline Models\n",
    "<a id=\"baseline\"></a>"
   ]
  },
  {
   "cell_type": "markdown",
   "id": "ef936d05",
   "metadata": {},
   "source": [
    "Recall that in the EDA notebook, we noticed that there was a high class imbalance in the target variable, especially with regards to a very high number of tracks that had a popularity score of 0. We discussed different ways to address this imbalance in the preprocessing steps of our data in previous notebooks and saved the different final preprocessed data in 3 different csv files. We will thus test all of our methods against these 3 preprocessing methods to evaluate potential improvements or not of the performances of our different models."
   ]
  },
  {
   "cell_type": "markdown",
   "id": "21fa6431",
   "metadata": {},
   "source": [
    "## Regression Problem"
   ]
  },
  {
   "cell_type": "markdown",
   "id": "7e654a35",
   "metadata": {},
   "source": [
    "## Classification Problem with Classes by 20"
   ]
  },
  {
   "cell_type": "markdown",
   "id": "47b655cf",
   "metadata": {},
   "source": [
    "## Classification Problem with Classes by 5"
   ]
  },
  {
   "cell_type": "markdown",
   "id": "84378038",
   "metadata": {},
   "source": [
    "We start by clustering the popularity scores into classes 5 by 5."
   ]
  },
  {
   "cell_type": "code",
   "execution_count": 7,
   "id": "60264216",
   "metadata": {},
   "outputs": [],
   "source": [
    "bins = range(0, 105, 5)\n",
    "labels = range(len(bins)-1)\n",
    "\n",
    "Y_nothing_clustered = pd.cut(Y_nothing, bins=bins, labels=labels, include_lowest=True)\n",
    "Y_0mean_clustered = pd.cut(Y_0mean, bins=bins, labels=labels, include_lowest=True)\n",
    "Y_no0_clustered = pd.cut(Y_no0, bins=bins, labels=labels, include_lowest=True)\n",
    "\n",
    "# We will append all final models in this model dictionary  \n",
    "models = {}"
   ]
  },
  {
   "cell_type": "code",
   "execution_count": 8,
   "id": "545b015f",
   "metadata": {},
   "outputs": [],
   "source": [
    "## Helper function\n",
    "\n",
    "def evaluate_models(X, Y, models, test_size=0.2, random_state=42):\n",
    "    \n",
    "    X_train, X_test, Y_train, Y_test = train_test_split(X, Y, test_size=test_size, random_state=random_state)\n",
    "    \n",
    "    results = {}\n",
    "    for name, model in models.items():\n",
    "        print(f\"Running {name}\")\n",
    "        model.fit(X_train, Y_train)\n",
    "\n",
    "        train_acc = accuracy_score(Y_train, model.predict(X_train))\n",
    "        cv_acc = np.mean(cross_val_score(model, X_train, Y_train, cv=5))\n",
    "        test_acc = accuracy_score(Y_test, model.predict(X_test))\n",
    "\n",
    "        results[name] = {\n",
    "            \"Train Accuracy\": train_acc,\n",
    "            \"Cross-Validation Accuracy\": cv_acc,\n",
    "            \"Test Accuracy\": test_acc\n",
    "        }\n",
    "        print(f\"Results for {name} saved!\")\n",
    "    return results"
   ]
  },
  {
   "cell_type": "markdown",
   "id": "50f59054",
   "metadata": {},
   "source": [
    "### K-Nearest Neighbors"
   ]
  },
  {
   "cell_type": "code",
   "execution_count": 9,
   "id": "276a9bd9",
   "metadata": {},
   "outputs": [
    {
     "name": "stderr",
     "output_type": "stream",
     "text": [
      "/Users/mathilde/micromamba/envs/cs109a/lib/python3.12/site-packages/sklearn/model_selection/_split.py:776: UserWarning: The least populated class in y has only 1 members, which is less than n_splits=5.\n",
      "  warnings.warn(\n"
     ]
    }
   ],
   "source": [
    "X_train, X_test, Y_train, Y_test = train_test_split(X_nothing, Y_nothing, test_size=0.2, random_state=42)\n",
    "model = KNeighborsClassifier(n_neighbors=1)\n",
    "model.fit(X_train, Y_train)\n",
    "train_acc = accuracy_score(Y_train, model.predict(X_train))\n",
    "cv_acc = np.mean(cross_val_score(model, X_train, Y_train, cv=5))\n",
    "test_acc = accuracy_score(Y_test, model.predict(X_test))"
   ]
  },
  {
   "cell_type": "code",
   "execution_count": 10,
   "id": "cd5bc3fd",
   "metadata": {},
   "outputs": [
    {
     "name": "stdout",
     "output_type": "stream",
     "text": [
      "1.0\n",
      "0.18522141482981982\n",
      "0.17915711514724034\n"
     ]
    }
   ],
   "source": [
    "print(train_acc)\n",
    "print(cv_acc)\n",
    "print(test_acc)"
   ]
  },
  {
   "cell_type": "code",
   "execution_count": 11,
   "id": "ca41bbf7",
   "metadata": {},
   "outputs": [
    {
     "name": "stdout",
     "output_type": "stream",
     "text": [
      "Running knn with 2 neighb\n",
      "Results for knn with 2 neighb saved!\n",
      "Running knn with 3 neighb\n",
      "Results for knn with 3 neighb saved!\n",
      "Running knn with 5 neighb\n",
      "Results for knn with 5 neighb saved!\n",
      "Running knn with 10 neighb\n",
      "Results for knn with 10 neighb saved!\n",
      "Running knn with 20 neighb\n",
      "Results for knn with 20 neighb saved!\n",
      "Running knn with 2 neighb\n",
      "Results for knn with 2 neighb saved!\n",
      "Running knn with 3 neighb\n",
      "Results for knn with 3 neighb saved!\n",
      "Running knn with 5 neighb\n",
      "Results for knn with 5 neighb saved!\n",
      "Running knn with 10 neighb\n",
      "Results for knn with 10 neighb saved!\n",
      "Running knn with 20 neighb\n",
      "Results for knn with 20 neighb saved!\n",
      "Running knn with 2 neighb\n",
      "Results for knn with 2 neighb saved!\n",
      "Running knn with 3 neighb\n",
      "Results for knn with 3 neighb saved!\n",
      "Running knn with 5 neighb\n",
      "Results for knn with 5 neighb saved!\n",
      "Running knn with 10 neighb\n",
      "Results for knn with 10 neighb saved!\n",
      "Running knn with 20 neighb\n",
      "Results for knn with 20 neighb saved!\n",
      "Nothing\n",
      "{'knn with 2 neighb': {'Train Accuracy': 0.7740399453286892, 'Cross-Validation Accuracy': np.float64(0.5339712685701224), 'Test Accuracy': 0.5316522659143008}, 'knn with 3 neighb': {'Train Accuracy': 0.7588289757947181, 'Cross-Validation Accuracy': np.float64(0.5441558609419164), 'Test Accuracy': 0.5399400458472933}, 'knn with 5 neighb': {'Train Accuracy': 0.7262907279220493, 'Cross-Validation Accuracy': np.float64(0.5752828788884186), 'Test Accuracy': 0.5704461294304356}, 'knn with 10 neighb': {'Train Accuracy': 0.6880649001366783, 'Cross-Validation Accuracy': np.float64(0.5910673517645819), 'Test Accuracy': 0.5850819961206136}, 'knn with 20 neighb': {'Train Accuracy': 0.6599356289405229, 'Cross-Validation Accuracy': np.float64(0.5888628439726815), 'Test Accuracy': 0.5921354258508199}}\n",
      "0mean\n",
      "{'knn with 2 neighb': {'Train Accuracy': 0.7525241391473039, 'Cross-Validation Accuracy': np.float64(0.4850757090728438), 'Test Accuracy': 0.484923293951684}, 'knn with 3 neighb': {'Train Accuracy': 0.7345355143071293, 'Cross-Validation Accuracy': np.float64(0.4990079316488103), 'Test Accuracy': 0.4974431317228002}, 'knn with 5 neighb': {'Train Accuracy': 0.6973678409241215, 'Cross-Validation Accuracy': np.float64(0.5296058685027166), 'Test Accuracy': 0.528478222535708}, 'knn with 10 neighb': {'Train Accuracy': 0.6550857545963582, 'Cross-Validation Accuracy': np.float64(0.5445526085927231), 'Test Accuracy': 0.5404690530770587}, 'knn with 20 neighb': {'Train Accuracy': 0.6215775318548565, 'Cross-Validation Accuracy': np.float64(0.5423921147655627), 'Test Accuracy': 0.5499911832128372}}\n",
      "No0\n",
      "{'knn with 2 neighb': {'Train Accuracy': 0.75, 'Cross-Validation Accuracy': np.float64(0.4838743701561762), 'Test Accuracy': 0.48484848484848486}, 'knn with 3 neighb': {'Train Accuracy': 0.731251214299592, 'Cross-Validation Accuracy': np.float64(0.49349189202707644), 'Test Accuracy': 0.4959207459207459}, 'knn with 5 neighb': {'Train Accuracy': 0.6984165533320381, 'Cross-Validation Accuracy': np.float64(0.5365263233518185), 'Test Accuracy': 0.5341880341880342}, 'knn with 10 neighb': {'Train Accuracy': 0.6603846901107441, 'Cross-Validation Accuracy': np.float64(0.547163403898806), 'Test Accuracy': 0.5576923076923077}, 'knn with 20 neighb': {'Train Accuracy': 0.6276957450942297, 'Cross-Validation Accuracy': np.float64(0.5476002969480718), 'Test Accuracy': 0.5586635586635587}}\n"
     ]
    }
   ],
   "source": [
    "n_list = [2, 3, 5, 10, 20]\n",
    "knn_models = {}\n",
    "for n in n_list:\n",
    "    knn_models[f\"knn with {n} neighb\"] = KNeighborsClassifier(n_neighbors=n)\n",
    "\n",
    "nothing_knn = evaluate_models(X_nothing, Y_nothing_clustered, knn_models)\n",
    "zero_mean_knn = evaluate_models(X_0mean, Y_0mean_clustered, knn_models)\n",
    "no_zero_knn = evaluate_models(X_no0, Y_no0_clustered, knn_models)\n",
    "\n",
    "print(\"Nothing\")\n",
    "print(nothing_knn)\n",
    "print(\"0mean\")\n",
    "print(zero_mean_knn)\n",
    "print(\"No0\")\n",
    "print(no_zero_knn)"
   ]
  },
  {
   "cell_type": "markdown",
   "id": "3b1519f2",
   "metadata": {},
   "source": [
    "For this next part, we assembled into a single cell for simplicity the implementations and gridsearch on the cross-val accuracy of the following models:\n",
    "- Logistic Regression\n",
    "- Ridge Classifier\n",
    "- Decision Tree Classifier\n",
    "- Random Forest Classifier\n",
    "- Gradient Boosting Tree Classifier\n",
    "We implemetned as well a helper function to train and evaluate the models."
   ]
  },
  {
   "cell_type": "code",
   "execution_count": 28,
   "id": "9ac28bb6",
   "metadata": {},
   "outputs": [],
   "source": [
    "models = {\n",
    "        \"Logistic Regression\": {\n",
    "            \"model\": LogisticRegression(max_iter=1000),\n",
    "            \"params\": {\n",
    "                \"C\": [0.01, 0.1, 1, 10],\n",
    "                \"penalty\": [\"l2\", \"l1\"],\n",
    "                \"solver\": [\"lbfgs\", \"saga\"]\n",
    "            }\n",
    "        },\n",
    "        \"Ridge Classifier\": {\n",
    "            \"model\": RidgeClassifier(),\n",
    "            \"params\": {\n",
    "                \"alpha\": [0.1, 1, 10]\n",
    "            }\n",
    "        },\n",
    "        \"Decision Tree Classifier\": {\n",
    "            \"model\": DecisionTreeClassifier(),\n",
    "            \"params\": {\n",
    "                \"max_depth\": [2, 5, 10],\n",
    "                \"min_samples_split\": [2, 10, 20]\n",
    "            }\n",
    "        },\n",
    "        \"Gradient Boosted Trees\": {\n",
    "            \"model\": GradientBoostingClassifier(),\n",
    "            \"params\": {\n",
    "                \"n_estimators\": [50, 100, 200],\n",
    "                \"learning_rate\": [0.01, 0.1, 0.2],\n",
    "                \"max_depth\": [3, 5, 10]\n",
    "            }\n",
    "        }\n",
    "    }"
   ]
  },
  {
   "cell_type": "code",
   "execution_count": 24,
   "id": "e52705e1",
   "metadata": {},
   "outputs": [],
   "source": [
    "def evaluate_models_with_params(X, Y, models, name, test_size=0.2, random_state=42):\n",
    "\n",
    "    X_train, X_test, Y_train, Y_test = train_test_split(X, Y, test_size=test_size, random_state=random_state)\n",
    "    \n",
    "    results = {}\n",
    "    config = models\n",
    "    print(f\"Evaluating: {name}\")\n",
    "    clf = GridSearchCV(config[\"model\"], config[\"params\"], cv=5, scoring=\"accuracy\", n_jobs=-1)\n",
    "    clf.fit(X_train, Y_train)\n",
    "    \n",
    "    best_params = clf.best_params_\n",
    "    train_acc = accuracy_score(Y_train, clf.predict(X_train))\n",
    "    test_acc = accuracy_score(Y_test, clf.predict(X_test))\n",
    "    cross_val_acc = clf.best_score_\n",
    "    \n",
    "    results[name] = {\n",
    "        \"Best Parameters\": best_params,\n",
    "        \"Train Accuracy\": train_acc,\n",
    "        \"Cross-Validation Accuracy\": cross_val_acc,\n",
    "        \"Test Accuracy\": test_acc\n",
    "    }\n",
    "    \n",
    "    return results"
   ]
  },
  {
   "cell_type": "markdown",
   "id": "ae9d1b7d",
   "metadata": {},
   "source": [
    "### Logistic Regression"
   ]
  },
  {
   "cell_type": "code",
   "execution_count": 25,
   "id": "69b8c00b",
   "metadata": {},
   "outputs": [],
   "source": [
    "name = \"Logistic Regression\"\n",
    "model_logreg = models[name]"
   ]
  },
  {
   "cell_type": "code",
   "execution_count": 27,
   "id": "2c1e1d88",
   "metadata": {},
   "outputs": [
    {
     "name": "stdout",
     "output_type": "stream",
     "text": [
      "Evaluating: Logistic Regression\n"
     ]
    },
    {
     "ename": "KeyboardInterrupt",
     "evalue": "",
     "output_type": "error",
     "traceback": [
      "\u001b[0;31m---------------------------------------------------------------------------\u001b[0m",
      "\u001b[0;31mKeyboardInterrupt\u001b[0m                         Traceback (most recent call last)",
      "Cell \u001b[0;32mIn[27], line 1\u001b[0m\n\u001b[0;32m----> 1\u001b[0m nothing_logreg \u001b[38;5;241m=\u001b[39m \u001b[43mevaluate_models_with_params\u001b[49m\u001b[43m(\u001b[49m\u001b[43mX_nothing\u001b[49m\u001b[43m,\u001b[49m\u001b[43m \u001b[49m\u001b[43mY_nothing_clustered\u001b[49m\u001b[43m,\u001b[49m\u001b[43m \u001b[49m\u001b[43mmodel_logreg\u001b[49m\u001b[43m,\u001b[49m\u001b[43m \u001b[49m\u001b[43mname\u001b[49m\u001b[43m)\u001b[49m\n\u001b[1;32m      2\u001b[0m \u001b[38;5;28mprint\u001b[39m(nothing_logreg)\n",
      "Cell \u001b[0;32mIn[24], line 9\u001b[0m, in \u001b[0;36mevaluate_models_with_params\u001b[0;34m(X, Y, models, name, test_size, random_state)\u001b[0m\n\u001b[1;32m      7\u001b[0m \u001b[38;5;28mprint\u001b[39m(\u001b[38;5;124mf\u001b[39m\u001b[38;5;124m\"\u001b[39m\u001b[38;5;124mEvaluating: \u001b[39m\u001b[38;5;132;01m{\u001b[39;00mname\u001b[38;5;132;01m}\u001b[39;00m\u001b[38;5;124m\"\u001b[39m)\n\u001b[1;32m      8\u001b[0m clf \u001b[38;5;241m=\u001b[39m GridSearchCV(config[\u001b[38;5;124m\"\u001b[39m\u001b[38;5;124mmodel\u001b[39m\u001b[38;5;124m\"\u001b[39m], config[\u001b[38;5;124m\"\u001b[39m\u001b[38;5;124mparams\u001b[39m\u001b[38;5;124m\"\u001b[39m], cv\u001b[38;5;241m=\u001b[39m\u001b[38;5;241m5\u001b[39m, scoring\u001b[38;5;241m=\u001b[39m\u001b[38;5;124m\"\u001b[39m\u001b[38;5;124maccuracy\u001b[39m\u001b[38;5;124m\"\u001b[39m, n_jobs\u001b[38;5;241m=\u001b[39m\u001b[38;5;241m-\u001b[39m\u001b[38;5;241m1\u001b[39m)\n\u001b[0;32m----> 9\u001b[0m \u001b[43mclf\u001b[49m\u001b[38;5;241;43m.\u001b[39;49m\u001b[43mfit\u001b[49m\u001b[43m(\u001b[49m\u001b[43mX_train\u001b[49m\u001b[43m,\u001b[49m\u001b[43m \u001b[49m\u001b[43mY_train\u001b[49m\u001b[43m)\u001b[49m\n\u001b[1;32m     11\u001b[0m best_params \u001b[38;5;241m=\u001b[39m clf\u001b[38;5;241m.\u001b[39mbest_params_\n\u001b[1;32m     12\u001b[0m train_acc \u001b[38;5;241m=\u001b[39m accuracy_score(Y_train, clf\u001b[38;5;241m.\u001b[39mpredict(X_train))\n",
      "File \u001b[0;32m~/micromamba/envs/cs109a/lib/python3.12/site-packages/sklearn/base.py:1473\u001b[0m, in \u001b[0;36m_fit_context.<locals>.decorator.<locals>.wrapper\u001b[0;34m(estimator, *args, **kwargs)\u001b[0m\n\u001b[1;32m   1466\u001b[0m     estimator\u001b[38;5;241m.\u001b[39m_validate_params()\n\u001b[1;32m   1468\u001b[0m \u001b[38;5;28;01mwith\u001b[39;00m config_context(\n\u001b[1;32m   1469\u001b[0m     skip_parameter_validation\u001b[38;5;241m=\u001b[39m(\n\u001b[1;32m   1470\u001b[0m         prefer_skip_nested_validation \u001b[38;5;129;01mor\u001b[39;00m global_skip_validation\n\u001b[1;32m   1471\u001b[0m     )\n\u001b[1;32m   1472\u001b[0m ):\n\u001b[0;32m-> 1473\u001b[0m     \u001b[38;5;28;01mreturn\u001b[39;00m \u001b[43mfit_method\u001b[49m\u001b[43m(\u001b[49m\u001b[43mestimator\u001b[49m\u001b[43m,\u001b[49m\u001b[43m \u001b[49m\u001b[38;5;241;43m*\u001b[39;49m\u001b[43margs\u001b[49m\u001b[43m,\u001b[49m\u001b[43m \u001b[49m\u001b[38;5;241;43m*\u001b[39;49m\u001b[38;5;241;43m*\u001b[39;49m\u001b[43mkwargs\u001b[49m\u001b[43m)\u001b[49m\n",
      "File \u001b[0;32m~/micromamba/envs/cs109a/lib/python3.12/site-packages/sklearn/model_selection/_search.py:1018\u001b[0m, in \u001b[0;36mBaseSearchCV.fit\u001b[0;34m(self, X, y, **params)\u001b[0m\n\u001b[1;32m   1012\u001b[0m     results \u001b[38;5;241m=\u001b[39m \u001b[38;5;28mself\u001b[39m\u001b[38;5;241m.\u001b[39m_format_results(\n\u001b[1;32m   1013\u001b[0m         all_candidate_params, n_splits, all_out, all_more_results\n\u001b[1;32m   1014\u001b[0m     )\n\u001b[1;32m   1016\u001b[0m     \u001b[38;5;28;01mreturn\u001b[39;00m results\n\u001b[0;32m-> 1018\u001b[0m \u001b[38;5;28;43mself\u001b[39;49m\u001b[38;5;241;43m.\u001b[39;49m\u001b[43m_run_search\u001b[49m\u001b[43m(\u001b[49m\u001b[43mevaluate_candidates\u001b[49m\u001b[43m)\u001b[49m\n\u001b[1;32m   1020\u001b[0m \u001b[38;5;66;03m# multimetric is determined here because in the case of a callable\u001b[39;00m\n\u001b[1;32m   1021\u001b[0m \u001b[38;5;66;03m# self.scoring the return type is only known after calling\u001b[39;00m\n\u001b[1;32m   1022\u001b[0m first_test_score \u001b[38;5;241m=\u001b[39m all_out[\u001b[38;5;241m0\u001b[39m][\u001b[38;5;124m\"\u001b[39m\u001b[38;5;124mtest_scores\u001b[39m\u001b[38;5;124m\"\u001b[39m]\n",
      "File \u001b[0;32m~/micromamba/envs/cs109a/lib/python3.12/site-packages/sklearn/model_selection/_search.py:1572\u001b[0m, in \u001b[0;36mGridSearchCV._run_search\u001b[0;34m(self, evaluate_candidates)\u001b[0m\n\u001b[1;32m   1570\u001b[0m \u001b[38;5;28;01mdef\u001b[39;00m \u001b[38;5;21m_run_search\u001b[39m(\u001b[38;5;28mself\u001b[39m, evaluate_candidates):\n\u001b[1;32m   1571\u001b[0m \u001b[38;5;250m    \u001b[39m\u001b[38;5;124;03m\"\"\"Search all candidates in param_grid\"\"\"\u001b[39;00m\n\u001b[0;32m-> 1572\u001b[0m     \u001b[43mevaluate_candidates\u001b[49m\u001b[43m(\u001b[49m\u001b[43mParameterGrid\u001b[49m\u001b[43m(\u001b[49m\u001b[38;5;28;43mself\u001b[39;49m\u001b[38;5;241;43m.\u001b[39;49m\u001b[43mparam_grid\u001b[49m\u001b[43m)\u001b[49m\u001b[43m)\u001b[49m\n",
      "File \u001b[0;32m~/micromamba/envs/cs109a/lib/python3.12/site-packages/sklearn/model_selection/_search.py:964\u001b[0m, in \u001b[0;36mBaseSearchCV.fit.<locals>.evaluate_candidates\u001b[0;34m(candidate_params, cv, more_results)\u001b[0m\n\u001b[1;32m    956\u001b[0m \u001b[38;5;28;01mif\u001b[39;00m \u001b[38;5;28mself\u001b[39m\u001b[38;5;241m.\u001b[39mverbose \u001b[38;5;241m>\u001b[39m \u001b[38;5;241m0\u001b[39m:\n\u001b[1;32m    957\u001b[0m     \u001b[38;5;28mprint\u001b[39m(\n\u001b[1;32m    958\u001b[0m         \u001b[38;5;124m\"\u001b[39m\u001b[38;5;124mFitting \u001b[39m\u001b[38;5;132;01m{0}\u001b[39;00m\u001b[38;5;124m folds for each of \u001b[39m\u001b[38;5;132;01m{1}\u001b[39;00m\u001b[38;5;124m candidates,\u001b[39m\u001b[38;5;124m\"\u001b[39m\n\u001b[1;32m    959\u001b[0m         \u001b[38;5;124m\"\u001b[39m\u001b[38;5;124m totalling \u001b[39m\u001b[38;5;132;01m{2}\u001b[39;00m\u001b[38;5;124m fits\u001b[39m\u001b[38;5;124m\"\u001b[39m\u001b[38;5;241m.\u001b[39mformat(\n\u001b[1;32m    960\u001b[0m             n_splits, n_candidates, n_candidates \u001b[38;5;241m*\u001b[39m n_splits\n\u001b[1;32m    961\u001b[0m         )\n\u001b[1;32m    962\u001b[0m     )\n\u001b[0;32m--> 964\u001b[0m out \u001b[38;5;241m=\u001b[39m \u001b[43mparallel\u001b[49m\u001b[43m(\u001b[49m\n\u001b[1;32m    965\u001b[0m \u001b[43m    \u001b[49m\u001b[43mdelayed\u001b[49m\u001b[43m(\u001b[49m\u001b[43m_fit_and_score\u001b[49m\u001b[43m)\u001b[49m\u001b[43m(\u001b[49m\n\u001b[1;32m    966\u001b[0m \u001b[43m        \u001b[49m\u001b[43mclone\u001b[49m\u001b[43m(\u001b[49m\u001b[43mbase_estimator\u001b[49m\u001b[43m)\u001b[49m\u001b[43m,\u001b[49m\n\u001b[1;32m    967\u001b[0m \u001b[43m        \u001b[49m\u001b[43mX\u001b[49m\u001b[43m,\u001b[49m\n\u001b[1;32m    968\u001b[0m \u001b[43m        \u001b[49m\u001b[43my\u001b[49m\u001b[43m,\u001b[49m\n\u001b[1;32m    969\u001b[0m \u001b[43m        \u001b[49m\u001b[43mtrain\u001b[49m\u001b[38;5;241;43m=\u001b[39;49m\u001b[43mtrain\u001b[49m\u001b[43m,\u001b[49m\n\u001b[1;32m    970\u001b[0m \u001b[43m        \u001b[49m\u001b[43mtest\u001b[49m\u001b[38;5;241;43m=\u001b[39;49m\u001b[43mtest\u001b[49m\u001b[43m,\u001b[49m\n\u001b[1;32m    971\u001b[0m \u001b[43m        \u001b[49m\u001b[43mparameters\u001b[49m\u001b[38;5;241;43m=\u001b[39;49m\u001b[43mparameters\u001b[49m\u001b[43m,\u001b[49m\n\u001b[1;32m    972\u001b[0m \u001b[43m        \u001b[49m\u001b[43msplit_progress\u001b[49m\u001b[38;5;241;43m=\u001b[39;49m\u001b[43m(\u001b[49m\u001b[43msplit_idx\u001b[49m\u001b[43m,\u001b[49m\u001b[43m \u001b[49m\u001b[43mn_splits\u001b[49m\u001b[43m)\u001b[49m\u001b[43m,\u001b[49m\n\u001b[1;32m    973\u001b[0m \u001b[43m        \u001b[49m\u001b[43mcandidate_progress\u001b[49m\u001b[38;5;241;43m=\u001b[39;49m\u001b[43m(\u001b[49m\u001b[43mcand_idx\u001b[49m\u001b[43m,\u001b[49m\u001b[43m \u001b[49m\u001b[43mn_candidates\u001b[49m\u001b[43m)\u001b[49m\u001b[43m,\u001b[49m\n\u001b[1;32m    974\u001b[0m \u001b[43m        \u001b[49m\u001b[38;5;241;43m*\u001b[39;49m\u001b[38;5;241;43m*\u001b[39;49m\u001b[43mfit_and_score_kwargs\u001b[49m\u001b[43m,\u001b[49m\n\u001b[1;32m    975\u001b[0m \u001b[43m    \u001b[49m\u001b[43m)\u001b[49m\n\u001b[1;32m    976\u001b[0m \u001b[43m    \u001b[49m\u001b[38;5;28;43;01mfor\u001b[39;49;00m\u001b[43m \u001b[49m\u001b[43m(\u001b[49m\u001b[43mcand_idx\u001b[49m\u001b[43m,\u001b[49m\u001b[43m \u001b[49m\u001b[43mparameters\u001b[49m\u001b[43m)\u001b[49m\u001b[43m,\u001b[49m\u001b[43m \u001b[49m\u001b[43m(\u001b[49m\u001b[43msplit_idx\u001b[49m\u001b[43m,\u001b[49m\u001b[43m \u001b[49m\u001b[43m(\u001b[49m\u001b[43mtrain\u001b[49m\u001b[43m,\u001b[49m\u001b[43m \u001b[49m\u001b[43mtest\u001b[49m\u001b[43m)\u001b[49m\u001b[43m)\u001b[49m\u001b[43m \u001b[49m\u001b[38;5;129;43;01min\u001b[39;49;00m\u001b[43m \u001b[49m\u001b[43mproduct\u001b[49m\u001b[43m(\u001b[49m\n\u001b[1;32m    977\u001b[0m \u001b[43m        \u001b[49m\u001b[38;5;28;43menumerate\u001b[39;49m\u001b[43m(\u001b[49m\u001b[43mcandidate_params\u001b[49m\u001b[43m)\u001b[49m\u001b[43m,\u001b[49m\n\u001b[1;32m    978\u001b[0m \u001b[43m        \u001b[49m\u001b[38;5;28;43menumerate\u001b[39;49m\u001b[43m(\u001b[49m\u001b[43mcv\u001b[49m\u001b[38;5;241;43m.\u001b[39;49m\u001b[43msplit\u001b[49m\u001b[43m(\u001b[49m\u001b[43mX\u001b[49m\u001b[43m,\u001b[49m\u001b[43m \u001b[49m\u001b[43my\u001b[49m\u001b[43m,\u001b[49m\u001b[43m \u001b[49m\u001b[38;5;241;43m*\u001b[39;49m\u001b[38;5;241;43m*\u001b[39;49m\u001b[43mrouted_params\u001b[49m\u001b[38;5;241;43m.\u001b[39;49m\u001b[43msplitter\u001b[49m\u001b[38;5;241;43m.\u001b[39;49m\u001b[43msplit\u001b[49m\u001b[43m)\u001b[49m\u001b[43m)\u001b[49m\u001b[43m,\u001b[49m\n\u001b[1;32m    979\u001b[0m \u001b[43m    \u001b[49m\u001b[43m)\u001b[49m\n\u001b[1;32m    980\u001b[0m \u001b[43m\u001b[49m\u001b[43m)\u001b[49m\n\u001b[1;32m    982\u001b[0m \u001b[38;5;28;01mif\u001b[39;00m \u001b[38;5;28mlen\u001b[39m(out) \u001b[38;5;241m<\u001b[39m \u001b[38;5;241m1\u001b[39m:\n\u001b[1;32m    983\u001b[0m     \u001b[38;5;28;01mraise\u001b[39;00m \u001b[38;5;167;01mValueError\u001b[39;00m(\n\u001b[1;32m    984\u001b[0m         \u001b[38;5;124m\"\u001b[39m\u001b[38;5;124mNo fits were performed. \u001b[39m\u001b[38;5;124m\"\u001b[39m\n\u001b[1;32m    985\u001b[0m         \u001b[38;5;124m\"\u001b[39m\u001b[38;5;124mWas the CV iterator empty? \u001b[39m\u001b[38;5;124m\"\u001b[39m\n\u001b[1;32m    986\u001b[0m         \u001b[38;5;124m\"\u001b[39m\u001b[38;5;124mWere there no candidates?\u001b[39m\u001b[38;5;124m\"\u001b[39m\n\u001b[1;32m    987\u001b[0m     )\n",
      "File \u001b[0;32m~/micromamba/envs/cs109a/lib/python3.12/site-packages/sklearn/utils/parallel.py:74\u001b[0m, in \u001b[0;36mParallel.__call__\u001b[0;34m(self, iterable)\u001b[0m\n\u001b[1;32m     69\u001b[0m config \u001b[38;5;241m=\u001b[39m get_config()\n\u001b[1;32m     70\u001b[0m iterable_with_config \u001b[38;5;241m=\u001b[39m (\n\u001b[1;32m     71\u001b[0m     (_with_config(delayed_func, config), args, kwargs)\n\u001b[1;32m     72\u001b[0m     \u001b[38;5;28;01mfor\u001b[39;00m delayed_func, args, kwargs \u001b[38;5;129;01min\u001b[39;00m iterable\n\u001b[1;32m     73\u001b[0m )\n\u001b[0;32m---> 74\u001b[0m \u001b[38;5;28;01mreturn\u001b[39;00m \u001b[38;5;28;43msuper\u001b[39;49m\u001b[43m(\u001b[49m\u001b[43m)\u001b[49m\u001b[38;5;241;43m.\u001b[39;49m\u001b[38;5;21;43m__call__\u001b[39;49m\u001b[43m(\u001b[49m\u001b[43miterable_with_config\u001b[49m\u001b[43m)\u001b[49m\n",
      "File \u001b[0;32m~/micromamba/envs/cs109a/lib/python3.12/site-packages/joblib/parallel.py:2007\u001b[0m, in \u001b[0;36mParallel.__call__\u001b[0;34m(self, iterable)\u001b[0m\n\u001b[1;32m   2001\u001b[0m \u001b[38;5;66;03m# The first item from the output is blank, but it makes the interpreter\u001b[39;00m\n\u001b[1;32m   2002\u001b[0m \u001b[38;5;66;03m# progress until it enters the Try/Except block of the generator and\u001b[39;00m\n\u001b[1;32m   2003\u001b[0m \u001b[38;5;66;03m# reaches the first `yield` statement. This starts the asynchronous\u001b[39;00m\n\u001b[1;32m   2004\u001b[0m \u001b[38;5;66;03m# dispatch of the tasks to the workers.\u001b[39;00m\n\u001b[1;32m   2005\u001b[0m \u001b[38;5;28mnext\u001b[39m(output)\n\u001b[0;32m-> 2007\u001b[0m \u001b[38;5;28;01mreturn\u001b[39;00m output \u001b[38;5;28;01mif\u001b[39;00m \u001b[38;5;28mself\u001b[39m\u001b[38;5;241m.\u001b[39mreturn_generator \u001b[38;5;28;01melse\u001b[39;00m \u001b[38;5;28;43mlist\u001b[39;49m\u001b[43m(\u001b[49m\u001b[43moutput\u001b[49m\u001b[43m)\u001b[49m\n",
      "File \u001b[0;32m~/micromamba/envs/cs109a/lib/python3.12/site-packages/joblib/parallel.py:1650\u001b[0m, in \u001b[0;36mParallel._get_outputs\u001b[0;34m(self, iterator, pre_dispatch)\u001b[0m\n\u001b[1;32m   1647\u001b[0m     \u001b[38;5;28;01myield\u001b[39;00m\n\u001b[1;32m   1649\u001b[0m     \u001b[38;5;28;01mwith\u001b[39;00m \u001b[38;5;28mself\u001b[39m\u001b[38;5;241m.\u001b[39m_backend\u001b[38;5;241m.\u001b[39mretrieval_context():\n\u001b[0;32m-> 1650\u001b[0m         \u001b[38;5;28;01myield from\u001b[39;00m \u001b[38;5;28mself\u001b[39m\u001b[38;5;241m.\u001b[39m_retrieve()\n\u001b[1;32m   1652\u001b[0m \u001b[38;5;28;01mexcept\u001b[39;00m \u001b[38;5;167;01mGeneratorExit\u001b[39;00m:\n\u001b[1;32m   1653\u001b[0m     \u001b[38;5;66;03m# The generator has been garbage collected before being fully\u001b[39;00m\n\u001b[1;32m   1654\u001b[0m     \u001b[38;5;66;03m# consumed. This aborts the remaining tasks if possible and warn\u001b[39;00m\n\u001b[1;32m   1655\u001b[0m     \u001b[38;5;66;03m# the user if necessary.\u001b[39;00m\n\u001b[1;32m   1656\u001b[0m     \u001b[38;5;28mself\u001b[39m\u001b[38;5;241m.\u001b[39m_exception \u001b[38;5;241m=\u001b[39m \u001b[38;5;28;01mTrue\u001b[39;00m\n",
      "File \u001b[0;32m~/micromamba/envs/cs109a/lib/python3.12/site-packages/joblib/parallel.py:1762\u001b[0m, in \u001b[0;36mParallel._retrieve\u001b[0;34m(self)\u001b[0m\n\u001b[1;32m   1757\u001b[0m \u001b[38;5;66;03m# If the next job is not ready for retrieval yet, we just wait for\u001b[39;00m\n\u001b[1;32m   1758\u001b[0m \u001b[38;5;66;03m# async callbacks to progress.\u001b[39;00m\n\u001b[1;32m   1759\u001b[0m \u001b[38;5;28;01mif\u001b[39;00m ((\u001b[38;5;28mlen\u001b[39m(\u001b[38;5;28mself\u001b[39m\u001b[38;5;241m.\u001b[39m_jobs) \u001b[38;5;241m==\u001b[39m \u001b[38;5;241m0\u001b[39m) \u001b[38;5;129;01mor\u001b[39;00m\n\u001b[1;32m   1760\u001b[0m     (\u001b[38;5;28mself\u001b[39m\u001b[38;5;241m.\u001b[39m_jobs[\u001b[38;5;241m0\u001b[39m]\u001b[38;5;241m.\u001b[39mget_status(\n\u001b[1;32m   1761\u001b[0m         timeout\u001b[38;5;241m=\u001b[39m\u001b[38;5;28mself\u001b[39m\u001b[38;5;241m.\u001b[39mtimeout) \u001b[38;5;241m==\u001b[39m TASK_PENDING)):\n\u001b[0;32m-> 1762\u001b[0m     \u001b[43mtime\u001b[49m\u001b[38;5;241;43m.\u001b[39;49m\u001b[43msleep\u001b[49m\u001b[43m(\u001b[49m\u001b[38;5;241;43m0.01\u001b[39;49m\u001b[43m)\u001b[49m\n\u001b[1;32m   1763\u001b[0m     \u001b[38;5;28;01mcontinue\u001b[39;00m\n\u001b[1;32m   1765\u001b[0m \u001b[38;5;66;03m# We need to be careful: the job list can be filling up as\u001b[39;00m\n\u001b[1;32m   1766\u001b[0m \u001b[38;5;66;03m# we empty it and Python list are not thread-safe by\u001b[39;00m\n\u001b[1;32m   1767\u001b[0m \u001b[38;5;66;03m# default hence the use of the lock\u001b[39;00m\n",
      "\u001b[0;31mKeyboardInterrupt\u001b[0m: "
     ]
    }
   ],
   "source": [
    "nothing_logreg = evaluate_models_with_params(X_nothing, Y_nothing_clustered, model_logreg, name)\n",
    "print(nothing_logreg)"
   ]
  },
  {
   "cell_type": "code",
   "execution_count": null,
   "id": "fa953006",
   "metadata": {},
   "outputs": [],
   "source": [
    "zero_mean_logreg = evaluate_models_with_params(X_0mean, Y_0mean_clustered, model_logreg, name)\n",
    "print(zero_mean_logreg)\n"
   ]
  },
  {
   "cell_type": "code",
   "execution_count": null,
   "id": "e64245d9",
   "metadata": {},
   "outputs": [],
   "source": [
    "no_zero_logreg = evaluate_models_with_params(X_no0, Y_no0_clustered, model_logreg, name)\n",
    "print(no_zero_logreg)"
   ]
  },
  {
   "cell_type": "markdown",
   "id": "4d685e8e",
   "metadata": {},
   "source": [
    "### Ridge Classifier"
   ]
  },
  {
   "cell_type": "code",
   "execution_count": 29,
   "id": "2a14e32e",
   "metadata": {},
   "outputs": [],
   "source": [
    "name = \"Ridge Classifier\"\n",
    "model_ridge = models[name]"
   ]
  },
  {
   "cell_type": "code",
   "execution_count": null,
   "id": "2bdd84da",
   "metadata": {},
   "outputs": [
    {
     "name": "stdout",
     "output_type": "stream",
     "text": [
      "Evaluating: Ridge Classifier\n"
     ]
    }
   ],
   "source": [
    "nothing_ridge = evaluate_models_with_params(X_nothing, Y_nothing_clustered, model_ridge, name)\n",
    "print(nothing_ridge)"
   ]
  },
  {
   "cell_type": "code",
   "execution_count": null,
   "id": "311cba0b",
   "metadata": {},
   "outputs": [],
   "source": [
    "zero_mean_ridge = evaluate_models_with_params(X_0mean, Y_0mean_clustered, model_ridge, name)\n",
    "print(zero_mean_ridge)"
   ]
  },
  {
   "cell_type": "code",
   "execution_count": null,
   "id": "23248e74",
   "metadata": {},
   "outputs": [],
   "source": [
    "no_zero_ridge = evaluate_models_with_params(X_no0, Y_no0_clustered, model_ridge, name)\n",
    "print(no_zero_ridge)"
   ]
  },
  {
   "cell_type": "markdown",
   "id": "c028298c",
   "metadata": {},
   "source": [
    "### Decision Tree Classifier"
   ]
  },
  {
   "cell_type": "code",
   "execution_count": null,
   "id": "f6cc7e6d",
   "metadata": {},
   "outputs": [],
   "source": [
    "name = \"Decision Tree Classifier\"\n",
    "model_dtc = models[name]"
   ]
  },
  {
   "cell_type": "code",
   "execution_count": null,
   "id": "564dcd2c",
   "metadata": {},
   "outputs": [],
   "source": [
    "nothing_tree = evaluate_models_with_params(X_nothing, Y_nothing_clustered, model_dtc, name)\n",
    "print(nothing_tree)"
   ]
  },
  {
   "cell_type": "code",
   "execution_count": null,
   "id": "989cdc22",
   "metadata": {},
   "outputs": [],
   "source": [
    "zero_mean_tree = evaluate_models_with_params(X_0mean, Y_0mean_clustered, model_dtc, name)\n",
    "print(zero_mean_tree)"
   ]
  },
  {
   "cell_type": "code",
   "execution_count": null,
   "id": "c91e560d",
   "metadata": {},
   "outputs": [],
   "source": [
    "no_zero_tree = evaluate_models_with_params(X_no0, Y_no0_clustered, model_dtc, name)\n",
    "print(no_zero_tree)"
   ]
  },
  {
   "cell_type": "code",
   "execution_count": null,
   "id": "0e79ac81",
   "metadata": {},
   "outputs": [],
   "source": [
    "# Best performing "
   ]
  },
  {
   "cell_type": "markdown",
   "id": "428a5f1b",
   "metadata": {},
   "source": [
    "### Random Forest Classifier"
   ]
  },
  {
   "cell_type": "code",
   "execution_count": null,
   "id": "ef51ed00",
   "metadata": {},
   "outputs": [],
   "source": [
    "name = \"Random Forest Classifier\" \n",
    "model_rfc = models[name]"
   ]
  },
  {
   "cell_type": "code",
   "execution_count": null,
   "id": "f47051cb",
   "metadata": {},
   "outputs": [],
   "source": [
    "nothing_forest = evaluate_models_with_params(X_nothing, Y_nothing_clustered, model_rfc, name)\n",
    "print(nothing_forest)"
   ]
  },
  {
   "cell_type": "code",
   "execution_count": null,
   "id": "81892454",
   "metadata": {},
   "outputs": [],
   "source": [
    "zero_mean_forest = evaluate_models_with_params(X_0mean, Y_0mean_clustered, model_rfc, name)\n",
    "print(zero_mean_forest)"
   ]
  },
  {
   "cell_type": "code",
   "execution_count": null,
   "id": "31ebc200",
   "metadata": {},
   "outputs": [],
   "source": [
    "no_zero_forest = evaluate_models_with_params(X_no0, Y_no0_clustered, model_rfc, name)\n",
    "print(no_zero_forest)"
   ]
  },
  {
   "cell_type": "markdown",
   "id": "326c518f",
   "metadata": {},
   "source": [
    "### Gradient Boosting Tree Classifier"
   ]
  },
  {
   "cell_type": "code",
   "execution_count": null,
   "id": "3482cb15",
   "metadata": {},
   "outputs": [],
   "source": [
    "name = \"Gradient Boosted Trees\"\n",
    "model_gbt = models[name]"
   ]
  },
  {
   "cell_type": "code",
   "execution_count": null,
   "id": "3881097d",
   "metadata": {},
   "outputs": [],
   "source": [
    "nothing_boost = evaluate_models_with_params(X_nothing, Y_nothing_clustered, model_gbt, name)\n",
    "print(nothing_boost)"
   ]
  },
  {
   "cell_type": "code",
   "execution_count": null,
   "id": "e1b31a9c",
   "metadata": {},
   "outputs": [],
   "source": [
    "zero_mean_boost = evaluate_models_with_params(X_0mean, Y_0mean_clustered, model_gbt, name)\n",
    "print(zero_mean_boost)"
   ]
  },
  {
   "cell_type": "code",
   "execution_count": null,
   "id": "ae40b9e2",
   "metadata": {},
   "outputs": [],
   "source": [
    "no_zero_boost = evaluate_models_with_params(X_no0, Y_no0_clustered, model_gbt, name)\n",
    "print(no_zero_boost)"
   ]
  },
  {
   "cell_type": "markdown",
   "id": "b66e5fcc",
   "metadata": {},
   "source": [
    "### Models Performance Comparison and Discussion"
   ]
  },
  {
   "cell_type": "markdown",
   "id": "bcc18743",
   "metadata": {},
   "source": [
    "Let us first combine all of our dictionaries of results into a single dictionary for easier manipulation/comparison."
   ]
  },
  {
   "cell_type": "code",
   "execution_count": null,
   "id": "9c4d828d",
   "metadata": {},
   "outputs": [],
   "source": [
    "all_results = {}\n",
    "all_results[\"nothing\"] = nothing_knn | nothing_logreg | nothing_ridge | nothing_tree | nothing_forest | nothing_boost\n",
    "all_results[\"zero_mean\"] = zero_mean_knn | zero_mean_logreg | zero_mean_ridge | zero_mean_tree | zero_mean_forest | zero_mean_boost\n",
    "all_results[\"no_zero\"] = no_zero_knn | no_zero_logreg | no_zero_ridge | no_zero_tree | no_zero_forest | no_zero_boost"
   ]
  },
  {
   "cell_type": "markdown",
   "id": "ff50bb9c",
   "metadata": {},
   "source": [
    "We can now observe the performance of the different models for each datasets!"
   ]
  },
  {
   "cell_type": "code",
   "execution_count": null,
   "id": "39e2550d",
   "metadata": {},
   "outputs": [],
   "source": [
    "print(\"Results for 'nothing' dataset:\")\n",
    "for model, metrics in all_results[\"nothing\"].items():\n",
    "    print(f\"{model}: {metrics}\")\n",
    "\n",
    "print(\"------------------------------------------------------------------------------------------------------------\")\n",
    "print(\"------------------------------------------------------------------------------------------------------------\")\n",
    "\n",
    "print(\"Results for '0mean' dataset:\")\n",
    "for model, metrics in all_results[\"0mean\"].items():\n",
    "    print(f\"{model}: {metrics}\")\n",
    "\n",
    "print(\"------------------------------------------------------------------------------------------------------------\")\n",
    "print(\"------------------------------------------------------------------------------------------------------------\")\n",
    "\n",
    "print(\"Results for 'no0' dataset:\")\n",
    "for model, metrics in all_results[\"no0\"].items():\n",
    "    print(f\"{model}: {metrics}\")"
   ]
  },
  {
   "cell_type": "markdown",
   "id": "b07d1c88",
   "metadata": {},
   "source": [
    "From the results above, we can build the following table. \n",
    "\n",
    "\n",
    "\n",
    "\n",
    "\n",
    "\n",
    "\n",
    "We observe that:"
   ]
  }
 ],
 "metadata": {
  "kernelspec": {
   "display_name": "Python 3",
   "language": "python",
   "name": "python3"
  },
  "language_info": {
   "codemirror_mode": {
    "name": "ipython",
    "version": 3
   },
   "file_extension": ".py",
   "mimetype": "text/x-python",
   "name": "python",
   "nbconvert_exporter": "python",
   "pygments_lexer": "ipython3",
   "version": "3.12.5"
  }
 },
 "nbformat": 4,
 "nbformat_minor": 5
}
